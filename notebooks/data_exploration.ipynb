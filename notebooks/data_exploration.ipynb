{
 "cells": [
  {
   "cell_type": "code",
   "execution_count": null,
   "metadata": {},
   "outputs": [],
   "source": [
    "import os\n",
    "import pandas as pd\n",
    "import plotly.express as px\n",
    "from plotly.subplots import make_subplots\n",
    "import plotly.graph_objects as go\n",
    "\n",
    "\n",
    "# Get the file path from an environment variable\n",
    "RAW_DATA_PATH = os.getenv(\"RAW_DATA_PATH\")\n",
    "\n",
    "# Load data\n",
    "data = pd.read_csv(RAW_DATA_PATH)\n",
    "\n",
    "# Convert timestamp column to datetime type\n",
    "data['Timestamp'] = pd.to_datetime(data['Timestamp'])\n",
    "\n",
    "# Extract week and month for filtering\n",
    "data['Week'] = data['Timestamp'].dt.isocalendar().week\n",
    "data['Month'] = data['Timestamp'].dt.month\n",
    "\n",
    "\n"
   ]
  },
  {
   "cell_type": "code",
   "execution_count": null,
   "metadata": {},
   "outputs": [],
   "source": [
    "\n",
    "# Define weeks of interest\n",
    "weeks = [41, 42, 43, 44]\n",
    "\n",
    "# Create a subplot layout with 2 rows, 2 columns\n",
    "fig = make_subplots(rows=2, cols=2, \n",
    "                    subplot_titles=[f\"Week {w}\" for w in weeks], \n",
    "                    specs=[[{\"type\": \"domain\"}, {\"type\": \"domain\"}], \n",
    "                           [{\"type\": \"domain\"}, {\"type\": \"domain\"}]])\n",
    "\n",
    "# Loop through each week and add a pie chart\n",
    "for i, week in enumerate(weeks):\n",
    "    # Filter data for the current week\n",
    "    week_data = data[data[\"Week\"] == week]\n",
    "    \n",
    "    # Aggregate plant health status counts\n",
    "    week_counts = week_data[\"Plant_Health_Status\"].value_counts().reset_index()\n",
    "    week_counts.columns = [\"Plant_Health_Status\", \"Count\"]\n",
    "\n",
    "    # Add pie chart to the corresponding subplot\n",
    "    fig.add_trace(go.Pie(labels=week_counts[\"Plant_Health_Status\"], \n",
    "                         values=week_counts[\"Count\"], \n",
    "                         name=f\"Week {week}\"), \n",
    "                  row=(i // 2) + 1, col=(i % 2) + 1)\n",
    "\n",
    "# Update layout\n",
    "fig.update_layout(title_text=\"Plant Health Status Distribution (Weeks 41-44)\", height=700, width=900)\n",
    "\n",
    "# Show the figure\n",
    "fig.show()\n"
   ]
  },
  {
   "cell_type": "code",
   "execution_count": null,
   "metadata": {},
   "outputs": [],
   "source": [
    "# Define plant IDs of interest\n",
    "plant_ids = [1, 2, 3, 4]\n",
    "\n",
    "# Create a subplot layout with 2 rows, 2 columns\n",
    "fig = make_subplots(rows=2, cols=2, \n",
    "                    subplot_titles=[f\"Plant ID {pid}\" for pid in plant_ids], \n",
    "                    specs=[[{\"type\": \"domain\"}, {\"type\": \"domain\"}], \n",
    "                           [{\"type\": \"domain\"}, {\"type\": \"domain\"}]])\n",
    "\n",
    "# Loop through each Plant ID and add a pie chart\n",
    "for i, pid in enumerate(plant_ids):\n",
    "    # Filter data for the current plant over the entire month\n",
    "    plant_data = data[data[\"Plant_ID\"] == pid]\n",
    "    \n",
    "    # Aggregate plant health status counts\n",
    "    plant_counts = plant_data[\"Plant_Health_Status\"].value_counts().reset_index()\n",
    "    plant_counts.columns = [\"Plant_Health_Status\", \"Count\"]\n",
    "\n",
    "    # Add pie chart to the corresponding subplot\n",
    "    fig.add_trace(go.Pie(labels=plant_counts[\"Plant_Health_Status\"], \n",
    "                         values=plant_counts[\"Count\"], \n",
    "                         name=f\"Plant ID {pid}\"), \n",
    "                  row=(i // 2) + 1, col=(i % 2) + 1)\n",
    "\n",
    "# Update layout\n",
    "fig.update_layout(title_text=\"Monthly Plant Health Status (Plant ID 1-4)\", height=700, width=900)\n",
    "\n",
    "# Show the figure\n",
    "fig.show()\n"
   ]
  },
  {
   "cell_type": "code",
   "execution_count": null,
   "metadata": {},
   "outputs": [],
   "source": [
    "# Select only numeric columns\n",
    "numeric_data = data.select_dtypes(include=['number'])\n",
    "\n",
    "# Compute correlation matrix\n",
    "corr_matrix = numeric_data.corr()\n",
    "\n",
    "# Plot heatmap\n",
    "import seaborn as sns\n",
    "import matplotlib.pyplot as plt\n",
    "\n",
    "plt.figure(figsize=(10, 6))\n",
    "sns.heatmap(corr_matrix, annot=True, cmap=\"coolwarm\", fmt=\".2f\", linewidths=0.5)\n",
    "plt.title(\"Feature Correlation Heatmap\")\n",
    "plt.show()\n"
   ]
  },
  {
   "cell_type": "code",
   "execution_count": 21,
   "metadata": {},
   "outputs": [
    {
     "name": "stdout",
     "output_type": "stream",
     "text": [
      "Data loaded successfully.\n",
      "Week column created.\n",
      "Unique Weeks: [np.uint32(40), np.uint32(41), np.uint32(42), np.uint32(43), np.uint32(44)]\n"
     ]
    },
    {
     "data": {
      "application/vnd.plotly.v1+json": {
       "config": {
        "plotlyServerURL": "https://plot.ly"
       },
       "data": [
        {
         "labels": [
          "Moderate Stress",
          "High Stress",
          "Healthy"
         ],
         "name": "Week 40",
         "type": "pie",
         "values": {
          "bdata": "Pjkf",
          "dtype": "i1"
         }
        }
       ],
       "layout": {
        "template": {
         "data": {
          "bar": [
           {
            "error_x": {
             "color": "#2a3f5f"
            },
            "error_y": {
             "color": "#2a3f5f"
            },
            "marker": {
             "line": {
              "color": "#E5ECF6",
              "width": 0.5
             },
             "pattern": {
              "fillmode": "overlay",
              "size": 10,
              "solidity": 0.2
             }
            },
            "type": "bar"
           }
          ],
          "barpolar": [
           {
            "marker": {
             "line": {
              "color": "#E5ECF6",
              "width": 0.5
             },
             "pattern": {
              "fillmode": "overlay",
              "size": 10,
              "solidity": 0.2
             }
            },
            "type": "barpolar"
           }
          ],
          "carpet": [
           {
            "aaxis": {
             "endlinecolor": "#2a3f5f",
             "gridcolor": "white",
             "linecolor": "white",
             "minorgridcolor": "white",
             "startlinecolor": "#2a3f5f"
            },
            "baxis": {
             "endlinecolor": "#2a3f5f",
             "gridcolor": "white",
             "linecolor": "white",
             "minorgridcolor": "white",
             "startlinecolor": "#2a3f5f"
            },
            "type": "carpet"
           }
          ],
          "choropleth": [
           {
            "colorbar": {
             "outlinewidth": 0,
             "ticks": ""
            },
            "type": "choropleth"
           }
          ],
          "contour": [
           {
            "colorbar": {
             "outlinewidth": 0,
             "ticks": ""
            },
            "colorscale": [
             [
              0,
              "#0d0887"
             ],
             [
              0.1111111111111111,
              "#46039f"
             ],
             [
              0.2222222222222222,
              "#7201a8"
             ],
             [
              0.3333333333333333,
              "#9c179e"
             ],
             [
              0.4444444444444444,
              "#bd3786"
             ],
             [
              0.5555555555555556,
              "#d8576b"
             ],
             [
              0.6666666666666666,
              "#ed7953"
             ],
             [
              0.7777777777777778,
              "#fb9f3a"
             ],
             [
              0.8888888888888888,
              "#fdca26"
             ],
             [
              1,
              "#f0f921"
             ]
            ],
            "type": "contour"
           }
          ],
          "contourcarpet": [
           {
            "colorbar": {
             "outlinewidth": 0,
             "ticks": ""
            },
            "type": "contourcarpet"
           }
          ],
          "heatmap": [
           {
            "colorbar": {
             "outlinewidth": 0,
             "ticks": ""
            },
            "colorscale": [
             [
              0,
              "#0d0887"
             ],
             [
              0.1111111111111111,
              "#46039f"
             ],
             [
              0.2222222222222222,
              "#7201a8"
             ],
             [
              0.3333333333333333,
              "#9c179e"
             ],
             [
              0.4444444444444444,
              "#bd3786"
             ],
             [
              0.5555555555555556,
              "#d8576b"
             ],
             [
              0.6666666666666666,
              "#ed7953"
             ],
             [
              0.7777777777777778,
              "#fb9f3a"
             ],
             [
              0.8888888888888888,
              "#fdca26"
             ],
             [
              1,
              "#f0f921"
             ]
            ],
            "type": "heatmap"
           }
          ],
          "histogram": [
           {
            "marker": {
             "pattern": {
              "fillmode": "overlay",
              "size": 10,
              "solidity": 0.2
             }
            },
            "type": "histogram"
           }
          ],
          "histogram2d": [
           {
            "colorbar": {
             "outlinewidth": 0,
             "ticks": ""
            },
            "colorscale": [
             [
              0,
              "#0d0887"
             ],
             [
              0.1111111111111111,
              "#46039f"
             ],
             [
              0.2222222222222222,
              "#7201a8"
             ],
             [
              0.3333333333333333,
              "#9c179e"
             ],
             [
              0.4444444444444444,
              "#bd3786"
             ],
             [
              0.5555555555555556,
              "#d8576b"
             ],
             [
              0.6666666666666666,
              "#ed7953"
             ],
             [
              0.7777777777777778,
              "#fb9f3a"
             ],
             [
              0.8888888888888888,
              "#fdca26"
             ],
             [
              1,
              "#f0f921"
             ]
            ],
            "type": "histogram2d"
           }
          ],
          "histogram2dcontour": [
           {
            "colorbar": {
             "outlinewidth": 0,
             "ticks": ""
            },
            "colorscale": [
             [
              0,
              "#0d0887"
             ],
             [
              0.1111111111111111,
              "#46039f"
             ],
             [
              0.2222222222222222,
              "#7201a8"
             ],
             [
              0.3333333333333333,
              "#9c179e"
             ],
             [
              0.4444444444444444,
              "#bd3786"
             ],
             [
              0.5555555555555556,
              "#d8576b"
             ],
             [
              0.6666666666666666,
              "#ed7953"
             ],
             [
              0.7777777777777778,
              "#fb9f3a"
             ],
             [
              0.8888888888888888,
              "#fdca26"
             ],
             [
              1,
              "#f0f921"
             ]
            ],
            "type": "histogram2dcontour"
           }
          ],
          "mesh3d": [
           {
            "colorbar": {
             "outlinewidth": 0,
             "ticks": ""
            },
            "type": "mesh3d"
           }
          ],
          "parcoords": [
           {
            "line": {
             "colorbar": {
              "outlinewidth": 0,
              "ticks": ""
             }
            },
            "type": "parcoords"
           }
          ],
          "pie": [
           {
            "automargin": true,
            "type": "pie"
           }
          ],
          "scatter": [
           {
            "fillpattern": {
             "fillmode": "overlay",
             "size": 10,
             "solidity": 0.2
            },
            "type": "scatter"
           }
          ],
          "scatter3d": [
           {
            "line": {
             "colorbar": {
              "outlinewidth": 0,
              "ticks": ""
             }
            },
            "marker": {
             "colorbar": {
              "outlinewidth": 0,
              "ticks": ""
             }
            },
            "type": "scatter3d"
           }
          ],
          "scattercarpet": [
           {
            "marker": {
             "colorbar": {
              "outlinewidth": 0,
              "ticks": ""
             }
            },
            "type": "scattercarpet"
           }
          ],
          "scattergeo": [
           {
            "marker": {
             "colorbar": {
              "outlinewidth": 0,
              "ticks": ""
             }
            },
            "type": "scattergeo"
           }
          ],
          "scattergl": [
           {
            "marker": {
             "colorbar": {
              "outlinewidth": 0,
              "ticks": ""
             }
            },
            "type": "scattergl"
           }
          ],
          "scattermap": [
           {
            "marker": {
             "colorbar": {
              "outlinewidth": 0,
              "ticks": ""
             }
            },
            "type": "scattermap"
           }
          ],
          "scattermapbox": [
           {
            "marker": {
             "colorbar": {
              "outlinewidth": 0,
              "ticks": ""
             }
            },
            "type": "scattermapbox"
           }
          ],
          "scatterpolar": [
           {
            "marker": {
             "colorbar": {
              "outlinewidth": 0,
              "ticks": ""
             }
            },
            "type": "scatterpolar"
           }
          ],
          "scatterpolargl": [
           {
            "marker": {
             "colorbar": {
              "outlinewidth": 0,
              "ticks": ""
             }
            },
            "type": "scatterpolargl"
           }
          ],
          "scatterternary": [
           {
            "marker": {
             "colorbar": {
              "outlinewidth": 0,
              "ticks": ""
             }
            },
            "type": "scatterternary"
           }
          ],
          "surface": [
           {
            "colorbar": {
             "outlinewidth": 0,
             "ticks": ""
            },
            "colorscale": [
             [
              0,
              "#0d0887"
             ],
             [
              0.1111111111111111,
              "#46039f"
             ],
             [
              0.2222222222222222,
              "#7201a8"
             ],
             [
              0.3333333333333333,
              "#9c179e"
             ],
             [
              0.4444444444444444,
              "#bd3786"
             ],
             [
              0.5555555555555556,
              "#d8576b"
             ],
             [
              0.6666666666666666,
              "#ed7953"
             ],
             [
              0.7777777777777778,
              "#fb9f3a"
             ],
             [
              0.8888888888888888,
              "#fdca26"
             ],
             [
              1,
              "#f0f921"
             ]
            ],
            "type": "surface"
           }
          ],
          "table": [
           {
            "cells": {
             "fill": {
              "color": "#EBF0F8"
             },
             "line": {
              "color": "white"
             }
            },
            "header": {
             "fill": {
              "color": "#C8D4E3"
             },
             "line": {
              "color": "white"
             }
            },
            "type": "table"
           }
          ]
         },
         "layout": {
          "annotationdefaults": {
           "arrowcolor": "#2a3f5f",
           "arrowhead": 0,
           "arrowwidth": 1
          },
          "autotypenumbers": "strict",
          "coloraxis": {
           "colorbar": {
            "outlinewidth": 0,
            "ticks": ""
           }
          },
          "colorscale": {
           "diverging": [
            [
             0,
             "#8e0152"
            ],
            [
             0.1,
             "#c51b7d"
            ],
            [
             0.2,
             "#de77ae"
            ],
            [
             0.3,
             "#f1b6da"
            ],
            [
             0.4,
             "#fde0ef"
            ],
            [
             0.5,
             "#f7f7f7"
            ],
            [
             0.6,
             "#e6f5d0"
            ],
            [
             0.7,
             "#b8e186"
            ],
            [
             0.8,
             "#7fbc41"
            ],
            [
             0.9,
             "#4d9221"
            ],
            [
             1,
             "#276419"
            ]
           ],
           "sequential": [
            [
             0,
             "#0d0887"
            ],
            [
             0.1111111111111111,
             "#46039f"
            ],
            [
             0.2222222222222222,
             "#7201a8"
            ],
            [
             0.3333333333333333,
             "#9c179e"
            ],
            [
             0.4444444444444444,
             "#bd3786"
            ],
            [
             0.5555555555555556,
             "#d8576b"
            ],
            [
             0.6666666666666666,
             "#ed7953"
            ],
            [
             0.7777777777777778,
             "#fb9f3a"
            ],
            [
             0.8888888888888888,
             "#fdca26"
            ],
            [
             1,
             "#f0f921"
            ]
           ],
           "sequentialminus": [
            [
             0,
             "#0d0887"
            ],
            [
             0.1111111111111111,
             "#46039f"
            ],
            [
             0.2222222222222222,
             "#7201a8"
            ],
            [
             0.3333333333333333,
             "#9c179e"
            ],
            [
             0.4444444444444444,
             "#bd3786"
            ],
            [
             0.5555555555555556,
             "#d8576b"
            ],
            [
             0.6666666666666666,
             "#ed7953"
            ],
            [
             0.7777777777777778,
             "#fb9f3a"
            ],
            [
             0.8888888888888888,
             "#fdca26"
            ],
            [
             1,
             "#f0f921"
            ]
           ]
          },
          "colorway": [
           "#636efa",
           "#EF553B",
           "#00cc96",
           "#ab63fa",
           "#FFA15A",
           "#19d3f3",
           "#FF6692",
           "#B6E880",
           "#FF97FF",
           "#FECB52"
          ],
          "font": {
           "color": "#2a3f5f"
          },
          "geo": {
           "bgcolor": "white",
           "lakecolor": "white",
           "landcolor": "#E5ECF6",
           "showlakes": true,
           "showland": true,
           "subunitcolor": "white"
          },
          "hoverlabel": {
           "align": "left"
          },
          "hovermode": "closest",
          "mapbox": {
           "style": "light"
          },
          "paper_bgcolor": "white",
          "plot_bgcolor": "#E5ECF6",
          "polar": {
           "angularaxis": {
            "gridcolor": "white",
            "linecolor": "white",
            "ticks": ""
           },
           "bgcolor": "#E5ECF6",
           "radialaxis": {
            "gridcolor": "white",
            "linecolor": "white",
            "ticks": ""
           }
          },
          "scene": {
           "xaxis": {
            "backgroundcolor": "#E5ECF6",
            "gridcolor": "white",
            "gridwidth": 2,
            "linecolor": "white",
            "showbackground": true,
            "ticks": "",
            "zerolinecolor": "white"
           },
           "yaxis": {
            "backgroundcolor": "#E5ECF6",
            "gridcolor": "white",
            "gridwidth": 2,
            "linecolor": "white",
            "showbackground": true,
            "ticks": "",
            "zerolinecolor": "white"
           },
           "zaxis": {
            "backgroundcolor": "#E5ECF6",
            "gridcolor": "white",
            "gridwidth": 2,
            "linecolor": "white",
            "showbackground": true,
            "ticks": "",
            "zerolinecolor": "white"
           }
          },
          "shapedefaults": {
           "line": {
            "color": "#2a3f5f"
           }
          },
          "ternary": {
           "aaxis": {
            "gridcolor": "white",
            "linecolor": "white",
            "ticks": ""
           },
           "baxis": {
            "gridcolor": "white",
            "linecolor": "white",
            "ticks": ""
           },
           "bgcolor": "#E5ECF6",
           "caxis": {
            "gridcolor": "white",
            "linecolor": "white",
            "ticks": ""
           }
          },
          "title": {
           "x": 0.05
          },
          "xaxis": {
           "automargin": true,
           "gridcolor": "white",
           "linecolor": "white",
           "ticks": "",
           "title": {
            "standoff": 15
           },
           "zerolinecolor": "white",
           "zerolinewidth": 2
          },
          "yaxis": {
           "automargin": true,
           "gridcolor": "white",
           "linecolor": "white",
           "ticks": "",
           "title": {
            "standoff": 15
           },
           "zerolinecolor": "white",
           "zerolinewidth": 2
          }
         }
        },
        "title": {
         "text": "Plant Health Status Distribution - Week 40"
        },
        "updatemenus": [
         {
          "buttons": [
           {
            "args": [
             {
              "labels": [
               [
                "Moderate Stress",
                "High Stress",
                "Healthy"
               ]
              ],
              "values": [
               [
                62,
                57,
                31
               ]
              ]
             },
             {
              "title": "Plant Health Status Distribution - Week 40"
             }
            ],
            "label": "Week 40",
            "method": "update"
           },
           {
            "args": [
             {
              "labels": [
               [
                "High Stress",
                "Healthy",
                "Moderate Stress"
               ]
              ],
              "values": [
               [
                113,
                84,
                83
               ]
              ]
             },
             {
              "title": "Plant Health Status Distribution - Week 41"
             }
            ],
            "label": "Week 41",
            "method": "update"
           },
           {
            "args": [
             {
              "labels": [
               [
                "High Stress",
                "Moderate Stress",
                "Healthy"
               ]
              ],
              "values": [
               [
                122,
                90,
                68
               ]
              ]
             },
             {
              "title": "Plant Health Status Distribution - Week 42"
             }
            ],
            "label": "Week 42",
            "method": "update"
           },
           {
            "args": [
             {
              "labels": [
               [
                "High Stress",
                "Moderate Stress",
                "Healthy"
               ]
              ],
              "values": [
               [
                126,
                91,
                63
               ]
              ]
             },
             {
              "title": "Plant Health Status Distribution - Week 43"
             }
            ],
            "label": "Week 43",
            "method": "update"
           },
           {
            "args": [
             {
              "labels": [
               [
                "High Stress",
                "Moderate Stress",
                "Healthy"
               ]
              ],
              "values": [
               [
                82,
                75,
                53
               ]
              ]
             },
             {
              "title": "Plant Health Status Distribution - Week 44"
             }
            ],
            "label": "Week 44",
            "method": "update"
           }
          ],
          "direction": "down",
          "showactive": true
         }
        ]
       }
      }
     },
     "metadata": {},
     "output_type": "display_data"
    }
   ],
   "source": [
    "import os\n",
    "import pandas as pd\n",
    "import plotly.graph_objects as go\n",
    "\n",
    "# Get the file path from an environment variable\n",
    "RAW_DATA_PATH = os.getenv(\"RAW_DATA_PATH\")\n",
    "\n",
    "# Load data\n",
    "if RAW_DATA_PATH and os.path.exists(RAW_DATA_PATH):\n",
    "    data = pd.read_csv(RAW_DATA_PATH)\n",
    "    print(\"Data loaded successfully.\")\n",
    "else:\n",
    "    raise FileNotFoundError(\"CSV file not found. Check RAW_DATA_PATH.\")\n",
    "\n",
    "# Convert timestamp column to datetime type\n",
    "data['Timestamp'] = pd.to_datetime(data['Timestamp'])\n",
    "\n",
    "# Extract week and month for filtering\n",
    "if \"Week\" not in data.columns:\n",
    "    data[\"Week\"] = data[\"Timestamp\"].dt.isocalendar().week\n",
    "    print(\"Week column created.\")\n",
    "\n",
    "if \"Plant_Health_Status\" not in data.columns:\n",
    "    raise KeyError(\"Column 'Plant_Health_Status' not found in dataset.\")\n",
    "\n",
    "# Get unique weeks from dataset\n",
    "unique_weeks = sorted(data[\"Week\"].unique())\n",
    "print(\"Unique Weeks:\", unique_weeks)\n",
    "\n",
    "# Create initial figure (default to first available week)\n",
    "initial_week = unique_weeks[0]\n",
    "initial_data = data[data[\"Week\"] == initial_week][\"Plant_Health_Status\"].value_counts().reset_index()\n",
    "initial_data.columns = [\"Plant_Health_Status\", \"Count\"]\n",
    "\n",
    "# Create figure with initial pie chart\n",
    "fig = go.Figure()\n",
    "\n",
    "fig.add_trace(go.Pie(\n",
    "    labels=initial_data[\"Plant_Health_Status\"], \n",
    "    values=initial_data[\"Count\"], \n",
    "    name=f\"Week {initial_week}\"\n",
    "))\n",
    "\n",
    "# Create dropdown menu for selecting week\n",
    "dropdown_buttons = []\n",
    "\n",
    "for week in unique_weeks:\n",
    "    # Filter data for the selected week\n",
    "    week_data = data[data[\"Week\"] == week][\"Plant_Health_Status\"].value_counts().reset_index()\n",
    "    week_data.columns = [\"Plant_Health_Status\", \"Count\"]\n",
    "\n",
    "    # Add a dropdown button for each week\n",
    "    dropdown_buttons.append(\n",
    "        dict(\n",
    "            label=f\"Week {week}\",\n",
    "            method=\"update\",\n",
    "            args=[{\"labels\": [week_data[\"Plant_Health_Status\"]], \n",
    "                   \"values\": [week_data[\"Count\"]]}, \n",
    "                  {\"title\": f\"Plant Health Status Distribution - Week {week}\"}]\n",
    "        )\n",
    "    )\n",
    "\n",
    "# Add dropdown to the layout\n",
    "fig.update_layout(\n",
    "    title_text=f\"Plant Health Status Distribution - Week {initial_week}\",\n",
    "    updatemenus=[dict(\n",
    "        buttons=dropdown_buttons,\n",
    "        direction=\"down\",\n",
    "        showactive=True,\n",
    "    )]\n",
    ")\n",
    "\n",
    "# Show the interactive figure\n",
    "fig.show()\n"
   ]
  },
  {
   "cell_type": "code",
   "execution_count": 32,
   "metadata": {},
   "outputs": [
    {
     "data": {
      "application/vnd.plotly.v1+json": {
       "config": {
        "plotlyServerURL": "https://plot.ly"
       },
       "data": [
        {
         "domain": {
          "x": [
           0,
           0.45
          ],
          "y": [
           0,
           1
          ]
         },
         "labels": [
          "Moderate Stress",
          "High Stress",
          "Healthy"
         ],
         "name": "Week 40",
         "type": "pie",
         "values": {
          "bdata": "Pjkf",
          "dtype": "i1"
         }
        },
        {
         "marker": {
          "color": "lightblue"
         },
         "name": "Week 40",
         "type": "bar",
         "x": [
          "Soil_Moisture",
          "Ambient_Temperature",
          "Soil_Temperature",
          "Humidity",
          "Soil_pH",
          "Nitrogen_Level",
          "Phosphorus_Level",
          "Potassium_Level",
          "Chlorophyll_Content",
          "Electrochemical_Signal"
         ],
         "xaxis": "x",
         "y": {
          "bdata": "8EbblYG2OUCbcbZfJx84QG47R7gn9TNAAPhRqkpdS0C1wfoZCPsZQLFJHTkAnD5A4VMhq5eZPUAn8IRUzRM/QAp0khm6S0FAtaZxaT3R8D8=",
          "dtype": "f8"
         },
         "yaxis": "y"
        }
       ],
       "layout": {
        "annotations": [
         {
          "font": {
           "size": 16
          },
          "showarrow": false,
          "text": "Plant Health Status - Week 40",
          "x": 0.225,
          "xanchor": "center",
          "xref": "paper",
          "y": 1,
          "yanchor": "bottom",
          "yref": "paper"
         },
         {
          "font": {
           "size": 16
          },
          "showarrow": false,
          "text": "Avg Environmental Factors - Week 40",
          "x": 0.775,
          "xanchor": "center",
          "xref": "paper",
          "y": 1,
          "yanchor": "bottom",
          "yref": "paper"
         }
        ],
        "template": {
         "data": {
          "bar": [
           {
            "error_x": {
             "color": "#2a3f5f"
            },
            "error_y": {
             "color": "#2a3f5f"
            },
            "marker": {
             "line": {
              "color": "#E5ECF6",
              "width": 0.5
             },
             "pattern": {
              "fillmode": "overlay",
              "size": 10,
              "solidity": 0.2
             }
            },
            "type": "bar"
           }
          ],
          "barpolar": [
           {
            "marker": {
             "line": {
              "color": "#E5ECF6",
              "width": 0.5
             },
             "pattern": {
              "fillmode": "overlay",
              "size": 10,
              "solidity": 0.2
             }
            },
            "type": "barpolar"
           }
          ],
          "carpet": [
           {
            "aaxis": {
             "endlinecolor": "#2a3f5f",
             "gridcolor": "white",
             "linecolor": "white",
             "minorgridcolor": "white",
             "startlinecolor": "#2a3f5f"
            },
            "baxis": {
             "endlinecolor": "#2a3f5f",
             "gridcolor": "white",
             "linecolor": "white",
             "minorgridcolor": "white",
             "startlinecolor": "#2a3f5f"
            },
            "type": "carpet"
           }
          ],
          "choropleth": [
           {
            "colorbar": {
             "outlinewidth": 0,
             "ticks": ""
            },
            "type": "choropleth"
           }
          ],
          "contour": [
           {
            "colorbar": {
             "outlinewidth": 0,
             "ticks": ""
            },
            "colorscale": [
             [
              0,
              "#0d0887"
             ],
             [
              0.1111111111111111,
              "#46039f"
             ],
             [
              0.2222222222222222,
              "#7201a8"
             ],
             [
              0.3333333333333333,
              "#9c179e"
             ],
             [
              0.4444444444444444,
              "#bd3786"
             ],
             [
              0.5555555555555556,
              "#d8576b"
             ],
             [
              0.6666666666666666,
              "#ed7953"
             ],
             [
              0.7777777777777778,
              "#fb9f3a"
             ],
             [
              0.8888888888888888,
              "#fdca26"
             ],
             [
              1,
              "#f0f921"
             ]
            ],
            "type": "contour"
           }
          ],
          "contourcarpet": [
           {
            "colorbar": {
             "outlinewidth": 0,
             "ticks": ""
            },
            "type": "contourcarpet"
           }
          ],
          "heatmap": [
           {
            "colorbar": {
             "outlinewidth": 0,
             "ticks": ""
            },
            "colorscale": [
             [
              0,
              "#0d0887"
             ],
             [
              0.1111111111111111,
              "#46039f"
             ],
             [
              0.2222222222222222,
              "#7201a8"
             ],
             [
              0.3333333333333333,
              "#9c179e"
             ],
             [
              0.4444444444444444,
              "#bd3786"
             ],
             [
              0.5555555555555556,
              "#d8576b"
             ],
             [
              0.6666666666666666,
              "#ed7953"
             ],
             [
              0.7777777777777778,
              "#fb9f3a"
             ],
             [
              0.8888888888888888,
              "#fdca26"
             ],
             [
              1,
              "#f0f921"
             ]
            ],
            "type": "heatmap"
           }
          ],
          "histogram": [
           {
            "marker": {
             "pattern": {
              "fillmode": "overlay",
              "size": 10,
              "solidity": 0.2
             }
            },
            "type": "histogram"
           }
          ],
          "histogram2d": [
           {
            "colorbar": {
             "outlinewidth": 0,
             "ticks": ""
            },
            "colorscale": [
             [
              0,
              "#0d0887"
             ],
             [
              0.1111111111111111,
              "#46039f"
             ],
             [
              0.2222222222222222,
              "#7201a8"
             ],
             [
              0.3333333333333333,
              "#9c179e"
             ],
             [
              0.4444444444444444,
              "#bd3786"
             ],
             [
              0.5555555555555556,
              "#d8576b"
             ],
             [
              0.6666666666666666,
              "#ed7953"
             ],
             [
              0.7777777777777778,
              "#fb9f3a"
             ],
             [
              0.8888888888888888,
              "#fdca26"
             ],
             [
              1,
              "#f0f921"
             ]
            ],
            "type": "histogram2d"
           }
          ],
          "histogram2dcontour": [
           {
            "colorbar": {
             "outlinewidth": 0,
             "ticks": ""
            },
            "colorscale": [
             [
              0,
              "#0d0887"
             ],
             [
              0.1111111111111111,
              "#46039f"
             ],
             [
              0.2222222222222222,
              "#7201a8"
             ],
             [
              0.3333333333333333,
              "#9c179e"
             ],
             [
              0.4444444444444444,
              "#bd3786"
             ],
             [
              0.5555555555555556,
              "#d8576b"
             ],
             [
              0.6666666666666666,
              "#ed7953"
             ],
             [
              0.7777777777777778,
              "#fb9f3a"
             ],
             [
              0.8888888888888888,
              "#fdca26"
             ],
             [
              1,
              "#f0f921"
             ]
            ],
            "type": "histogram2dcontour"
           }
          ],
          "mesh3d": [
           {
            "colorbar": {
             "outlinewidth": 0,
             "ticks": ""
            },
            "type": "mesh3d"
           }
          ],
          "parcoords": [
           {
            "line": {
             "colorbar": {
              "outlinewidth": 0,
              "ticks": ""
             }
            },
            "type": "parcoords"
           }
          ],
          "pie": [
           {
            "automargin": true,
            "type": "pie"
           }
          ],
          "scatter": [
           {
            "fillpattern": {
             "fillmode": "overlay",
             "size": 10,
             "solidity": 0.2
            },
            "type": "scatter"
           }
          ],
          "scatter3d": [
           {
            "line": {
             "colorbar": {
              "outlinewidth": 0,
              "ticks": ""
             }
            },
            "marker": {
             "colorbar": {
              "outlinewidth": 0,
              "ticks": ""
             }
            },
            "type": "scatter3d"
           }
          ],
          "scattercarpet": [
           {
            "marker": {
             "colorbar": {
              "outlinewidth": 0,
              "ticks": ""
             }
            },
            "type": "scattercarpet"
           }
          ],
          "scattergeo": [
           {
            "marker": {
             "colorbar": {
              "outlinewidth": 0,
              "ticks": ""
             }
            },
            "type": "scattergeo"
           }
          ],
          "scattergl": [
           {
            "marker": {
             "colorbar": {
              "outlinewidth": 0,
              "ticks": ""
             }
            },
            "type": "scattergl"
           }
          ],
          "scattermap": [
           {
            "marker": {
             "colorbar": {
              "outlinewidth": 0,
              "ticks": ""
             }
            },
            "type": "scattermap"
           }
          ],
          "scattermapbox": [
           {
            "marker": {
             "colorbar": {
              "outlinewidth": 0,
              "ticks": ""
             }
            },
            "type": "scattermapbox"
           }
          ],
          "scatterpolar": [
           {
            "marker": {
             "colorbar": {
              "outlinewidth": 0,
              "ticks": ""
             }
            },
            "type": "scatterpolar"
           }
          ],
          "scatterpolargl": [
           {
            "marker": {
             "colorbar": {
              "outlinewidth": 0,
              "ticks": ""
             }
            },
            "type": "scatterpolargl"
           }
          ],
          "scatterternary": [
           {
            "marker": {
             "colorbar": {
              "outlinewidth": 0,
              "ticks": ""
             }
            },
            "type": "scatterternary"
           }
          ],
          "surface": [
           {
            "colorbar": {
             "outlinewidth": 0,
             "ticks": ""
            },
            "colorscale": [
             [
              0,
              "#0d0887"
             ],
             [
              0.1111111111111111,
              "#46039f"
             ],
             [
              0.2222222222222222,
              "#7201a8"
             ],
             [
              0.3333333333333333,
              "#9c179e"
             ],
             [
              0.4444444444444444,
              "#bd3786"
             ],
             [
              0.5555555555555556,
              "#d8576b"
             ],
             [
              0.6666666666666666,
              "#ed7953"
             ],
             [
              0.7777777777777778,
              "#fb9f3a"
             ],
             [
              0.8888888888888888,
              "#fdca26"
             ],
             [
              1,
              "#f0f921"
             ]
            ],
            "type": "surface"
           }
          ],
          "table": [
           {
            "cells": {
             "fill": {
              "color": "#EBF0F8"
             },
             "line": {
              "color": "white"
             }
            },
            "header": {
             "fill": {
              "color": "#C8D4E3"
             },
             "line": {
              "color": "white"
             }
            },
            "type": "table"
           }
          ]
         },
         "layout": {
          "annotationdefaults": {
           "arrowcolor": "#2a3f5f",
           "arrowhead": 0,
           "arrowwidth": 1
          },
          "autotypenumbers": "strict",
          "coloraxis": {
           "colorbar": {
            "outlinewidth": 0,
            "ticks": ""
           }
          },
          "colorscale": {
           "diverging": [
            [
             0,
             "#8e0152"
            ],
            [
             0.1,
             "#c51b7d"
            ],
            [
             0.2,
             "#de77ae"
            ],
            [
             0.3,
             "#f1b6da"
            ],
            [
             0.4,
             "#fde0ef"
            ],
            [
             0.5,
             "#f7f7f7"
            ],
            [
             0.6,
             "#e6f5d0"
            ],
            [
             0.7,
             "#b8e186"
            ],
            [
             0.8,
             "#7fbc41"
            ],
            [
             0.9,
             "#4d9221"
            ],
            [
             1,
             "#276419"
            ]
           ],
           "sequential": [
            [
             0,
             "#0d0887"
            ],
            [
             0.1111111111111111,
             "#46039f"
            ],
            [
             0.2222222222222222,
             "#7201a8"
            ],
            [
             0.3333333333333333,
             "#9c179e"
            ],
            [
             0.4444444444444444,
             "#bd3786"
            ],
            [
             0.5555555555555556,
             "#d8576b"
            ],
            [
             0.6666666666666666,
             "#ed7953"
            ],
            [
             0.7777777777777778,
             "#fb9f3a"
            ],
            [
             0.8888888888888888,
             "#fdca26"
            ],
            [
             1,
             "#f0f921"
            ]
           ],
           "sequentialminus": [
            [
             0,
             "#0d0887"
            ],
            [
             0.1111111111111111,
             "#46039f"
            ],
            [
             0.2222222222222222,
             "#7201a8"
            ],
            [
             0.3333333333333333,
             "#9c179e"
            ],
            [
             0.4444444444444444,
             "#bd3786"
            ],
            [
             0.5555555555555556,
             "#d8576b"
            ],
            [
             0.6666666666666666,
             "#ed7953"
            ],
            [
             0.7777777777777778,
             "#fb9f3a"
            ],
            [
             0.8888888888888888,
             "#fdca26"
            ],
            [
             1,
             "#f0f921"
            ]
           ]
          },
          "colorway": [
           "#636efa",
           "#EF553B",
           "#00cc96",
           "#ab63fa",
           "#FFA15A",
           "#19d3f3",
           "#FF6692",
           "#B6E880",
           "#FF97FF",
           "#FECB52"
          ],
          "font": {
           "color": "#2a3f5f"
          },
          "geo": {
           "bgcolor": "white",
           "lakecolor": "white",
           "landcolor": "#E5ECF6",
           "showlakes": true,
           "showland": true,
           "subunitcolor": "white"
          },
          "hoverlabel": {
           "align": "left"
          },
          "hovermode": "closest",
          "mapbox": {
           "style": "light"
          },
          "paper_bgcolor": "white",
          "plot_bgcolor": "#E5ECF6",
          "polar": {
           "angularaxis": {
            "gridcolor": "white",
            "linecolor": "white",
            "ticks": ""
           },
           "bgcolor": "#E5ECF6",
           "radialaxis": {
            "gridcolor": "white",
            "linecolor": "white",
            "ticks": ""
           }
          },
          "scene": {
           "xaxis": {
            "backgroundcolor": "#E5ECF6",
            "gridcolor": "white",
            "gridwidth": 2,
            "linecolor": "white",
            "showbackground": true,
            "ticks": "",
            "zerolinecolor": "white"
           },
           "yaxis": {
            "backgroundcolor": "#E5ECF6",
            "gridcolor": "white",
            "gridwidth": 2,
            "linecolor": "white",
            "showbackground": true,
            "ticks": "",
            "zerolinecolor": "white"
           },
           "zaxis": {
            "backgroundcolor": "#E5ECF6",
            "gridcolor": "white",
            "gridwidth": 2,
            "linecolor": "white",
            "showbackground": true,
            "ticks": "",
            "zerolinecolor": "white"
           }
          },
          "shapedefaults": {
           "line": {
            "color": "#2a3f5f"
           }
          },
          "ternary": {
           "aaxis": {
            "gridcolor": "white",
            "linecolor": "white",
            "ticks": ""
           },
           "baxis": {
            "gridcolor": "white",
            "linecolor": "white",
            "ticks": ""
           },
           "bgcolor": "#E5ECF6",
           "caxis": {
            "gridcolor": "white",
            "linecolor": "white",
            "ticks": ""
           }
          },
          "title": {
           "x": 0.05
          },
          "xaxis": {
           "automargin": true,
           "gridcolor": "white",
           "linecolor": "white",
           "ticks": "",
           "title": {
            "standoff": 15
           },
           "zerolinecolor": "white",
           "zerolinewidth": 2
          },
          "yaxis": {
           "automargin": true,
           "gridcolor": "white",
           "linecolor": "white",
           "ticks": "",
           "title": {
            "standoff": 15
           },
           "zerolinecolor": "white",
           "zerolinewidth": 2
          }
         }
        },
        "title": {
         "text": "Plant Health Status & Environmental Factors - Week 40"
        },
        "updatemenus": [
         {
          "buttons": [
           {
            "args": [
             {
              "labels": [
               [
                "Moderate Stress",
                "High Stress",
                "Healthy"
               ]
              ],
              "values": [
               [
                62,
                57,
                31
               ]
              ],
              "y": [
               [
                25.712914815935562,
                24.121694547693192,
                19.957637326613103,
                54.72884110453015,
                6.495148092203114,
                30.609378404283863,
                29.599970527302393,
                31.077351839500036,
                34.59161681796111,
                1.0510839575676247
               ]
              ]
             },
             {
              "title.text": "Plant Health Status & Environmental Factors - Week 40"
             }
            ],
            "label": "Week 40",
            "method": "update"
           },
           {
            "args": [
             {
              "labels": [
               [
                "High Stress",
                "Healthy",
                "Moderate Stress"
               ]
              ],
              "values": [
               [
                113,
                84,
                83
               ]
              ],
              "y": [
               [
                25.884888961373214,
                23.67361813183561,
                19.788740195107096,
                54.600820893803416,
                6.488732031380747,
                30.51356147910966,
                30.149294803517197,
                30.08971513909793,
                34.76138432912129,
                1.0130694795860418
               ]
              ]
             },
             {
              "title.text": "Plant Health Status & Environmental Factors - Week 41"
             }
            ],
            "label": "Week 41",
            "method": "update"
           },
           {
            "args": [
             {
              "labels": [
               [
                "High Stress",
                "Moderate Stress",
                "Healthy"
               ]
              ],
              "values": [
               [
                122,
                90,
                68
               ]
              ],
              "y": [
               [
                24.519866498134864,
                24.04459635706495,
                20.119911995636215,
                56.171764071305056,
                6.540395657878375,
                29.53906660332244,
                31.494346704562084,
                29.689289348627295,
                34.08987929119496,
                0.9679780511860173
               ]
              ]
             },
             {
              "title.text": "Plant Health Status & Environmental Factors - Week 42"
             }
            ],
            "label": "Week 42",
            "method": "update"
           },
           {
            "args": [
             {
              "labels": [
               [
                "High Stress",
                "Moderate Stress",
                "Healthy"
               ]
              ],
              "values": [
               [
                126,
                91,
                63
               ]
              ],
              "y": [
               [
                24.747397453977335,
                23.839041169432328,
                20.22878169665426,
                54.18419628137105,
                6.563801437983204,
                29.305683424208603,
                30.266296577015595,
                29.784844394092637,
                35.33317264026931,
                0.9234475687540902
               ]
              ]
             },
             {
              "title.text": "Plant Health Status & Environmental Factors - Week 43"
             }
            ],
            "label": "Week 43",
            "method": "update"
           },
           {
            "args": [
             {
              "labels": [
               [
                "High Stress",
                "Moderate Stress",
                "Healthy"
               ]
              ],
              "values": [
               [
                82,
                75,
                53
               ]
              ],
              "y": [
               [
                24.89886483964015,
                24.49842959790462,
                19.605838452392504,
                54.412253412655325,
                6.517286119398157,
                31.030319424760975,
                29.25048844115248,
                30.452503309943424,
                34.94821148648479,
                1.0209295204160653
               ]
              ]
             },
             {
              "title.text": "Plant Health Status & Environmental Factors - Week 44"
             }
            ],
            "label": "Week 44",
            "method": "update"
           }
          ],
          "direction": "down",
          "showactive": true,
          "x": 0.17,
          "y": 1.15
         }
        ],
        "xaxis": {
         "anchor": "y",
         "domain": [
          0.55,
          1
         ]
        },
        "yaxis": {
         "anchor": "x",
         "domain": [
          0,
          1
         ]
        }
       }
      }
     },
     "metadata": {},
     "output_type": "display_data"
    }
   ],
   "source": [
    "import os\n",
    "import pandas as pd\n",
    "import plotly.graph_objects as go\n",
    "from plotly.subplots import make_subplots\n",
    "\n",
    "# Get the file path from an environment variable\n",
    "RAW_DATA_PATH = os.getenv(\"RAW_DATA_PATH\")\n",
    "\n",
    "# Load data\n",
    "if RAW_DATA_PATH and os.path.exists(RAW_DATA_PATH):\n",
    "    data = pd.read_csv(RAW_DATA_PATH)\n",
    "else:\n",
    "    raise FileNotFoundError(\"CSV file not found. Check RAW_DATA_PATH.\")\n",
    "\n",
    "# Convert timestamp column to datetime type\n",
    "data['Timestamp'] = pd.to_datetime(data['Timestamp'])\n",
    "\n",
    "# Extract week\n",
    "data[\"Week\"] = data[\"Timestamp\"].dt.isocalendar().week\n",
    "\n",
    "# Get unique weeks\n",
    "unique_weeks = sorted(data[\"Week\"].unique())\n",
    "\n",
    "# Select key environmental features (excluding Light Intensity)\n",
    "env_features = [\n",
    "    \"Soil_Moisture\", \"Ambient_Temperature\", \"Soil_Temperature\", \"Humidity\", \n",
    "    \"Soil_pH\", \"Nitrogen_Level\", \"Phosphorus_Level\", \n",
    "    \"Potassium_Level\", \"Chlorophyll_Content\", \"Electrochemical_Signal\"\n",
    "]\n",
    "\n",
    "# --------- INITIAL DATA: First Available Week ---------\n",
    "initial_week = unique_weeks[0]\n",
    "filtered_data = data[data[\"Week\"] == initial_week]\n",
    "\n",
    "# Compute Plant Health Distribution (Tile 1)\n",
    "plant_health_counts = filtered_data[\"Plant_Health_Status\"].value_counts().reset_index()\n",
    "plant_health_counts.columns = [\"Plant_Health_Status\", \"Count\"]\n",
    "\n",
    "# Compute Avg Environmental Factors (Tile 2)\n",
    "avg_values = filtered_data[env_features].mean()\n",
    "\n",
    "# --------- CREATE SUBPLOTS ---------\n",
    "fig = make_subplots(\n",
    "    rows=1, cols=2,\n",
    "    subplot_titles=(\n",
    "        f\"Plant Health Status - Week {initial_week}\", \n",
    "        f\"Avg Environmental Factors - Week {initial_week}\"\n",
    "    ),\n",
    "    specs=[[{\"type\": \"pie\"}, {\"type\": \"bar\"}]]\n",
    ")\n",
    "\n",
    "# --------- TILE 1: PIE CHART (Plant Health Status) ---------\n",
    "fig.add_trace(\n",
    "    go.Pie(\n",
    "        labels=plant_health_counts[\"Plant_Health_Status\"], \n",
    "        values=plant_health_counts[\"Count\"], \n",
    "        name=f\"Week {initial_week}\"\n",
    "    ),\n",
    "    row=1, col=1\n",
    ")\n",
    "\n",
    "# --------- TILE 2: BAR CHART (Avg Environmental Factors) ---------\n",
    "fig.add_trace(\n",
    "    go.Bar(\n",
    "        x=env_features, \n",
    "        y=avg_values, \n",
    "        marker_color=\"lightblue\",\n",
    "        name=f\"Week {initial_week}\"\n",
    "    ),\n",
    "    row=1, col=2\n",
    ")\n",
    "\n",
    "# --------- CREATE DROPDOWN MENU ---------\n",
    "dropdown_buttons = []\n",
    "\n",
    "for week in unique_weeks:\n",
    "    filtered_data = data[data[\"Week\"] == week]\n",
    "\n",
    "    # Compute Plant Health Distribution\n",
    "    plant_health_counts = filtered_data[\"Plant_Health_Status\"].value_counts().reset_index()\n",
    "    plant_health_counts.columns = [\"Plant_Health_Status\", \"Count\"]\n",
    "\n",
    "    # Compute Avg Environmental Factors\n",
    "    avg_values = filtered_data[env_features].mean()\n",
    "\n",
    "    dropdown_buttons.append(\n",
    "        dict(\n",
    "            label=f\"Week {week}\",\n",
    "            method=\"update\",\n",
    "            args=[\n",
    "                {\"labels\": [plant_health_counts[\"Plant_Health_Status\"]],  # Update pie chart labels\n",
    "                 \"values\": [plant_health_counts[\"Count\"]],  # Update pie chart values\n",
    "                 \"y\": [avg_values.tolist()]},  # Update bar chart y-values\n",
    "                {\"title.text\": f\"Plant Health Status & Environmental Factors - Week {week}\"}\n",
    "            ]\n",
    "        )\n",
    "    )\n",
    "\n",
    "# --------- UPDATE FIGURE LAYOUT ---------\n",
    "fig.update_layout(\n",
    "    title_text=f\"Plant Health Status & Environmental Factors - Week {initial_week}\",\n",
    "    updatemenus=[dict(\n",
    "        buttons=dropdown_buttons,\n",
    "        direction=\"down\",\n",
    "        showactive=True,\n",
    "        x=0.17, y=1.15  # Adjust dropdown position\n",
    "    )]\n",
    ")\n",
    "\n",
    "# Show the interactive visualization\n",
    "fig.show()\n"
   ]
  },
  {
   "cell_type": "code",
   "execution_count": null,
   "metadata": {},
   "outputs": [],
   "source": []
  },
  {
   "cell_type": "code",
   "execution_count": 56,
   "metadata": {},
   "outputs": [
    {
     "data": {
      "application/vnd.jupyter.widget-view+json": {
       "model_id": "2770ac17ab4c42789963620c366cda4e",
       "version_major": 2,
       "version_minor": 0
      },
      "text/plain": [
       "VBox(children=(HBox(children=(Dropdown(description='Week:', layout=Layout(width='200px'), options=(('Week 40',…"
      ]
     },
     "metadata": {},
     "output_type": "display_data"
    }
   ],
   "source": [
    "import os\n",
    "import pandas as pd\n",
    "import plotly.graph_objects as go\n",
    "from plotly.subplots import make_subplots\n",
    "from ipywidgets import interactive_output, widgets, Layout, HBox, VBox\n",
    "\n",
    "# Get the file path from an environment variable\n",
    "RAW_DATA_PATH = os.getenv(\"RAW_DATA_PATH\")\n",
    "if RAW_DATA_PATH is None or not os.path.exists(RAW_DATA_PATH):\n",
    "    raise FileNotFoundError(\"RAW_DATA_PATH environment variable is not set or the file is missing.\")\n",
    "\n",
    "# Load data\n",
    "data = pd.read_csv(RAW_DATA_PATH)\n",
    "\n",
    "# Convert timestamp column to datetime type\n",
    "data['Timestamp'] = pd.to_datetime(data['Timestamp'])\n",
    "data['Week'] = data['Timestamp'].dt.isocalendar().week\n",
    "\n",
    "# Extract unique weeks and plants\n",
    "unique_weeks = sorted(data[\"Week\"].unique())\n",
    "unique_plants = sorted(data[\"Plant_ID\"].unique())\n",
    "\n",
    "# Function to get pie chart data based on Week & Plant selection\n",
    "def get_pie_data(week, plant):\n",
    "    filtered_data = data[(data[\"Week\"] == week) & (data[\"Plant_ID\"] == plant)]\n",
    "    if filtered_data.empty:\n",
    "        return pd.DataFrame({\"Plant_Health_Status\": [\"No Data\"], \"Count\": [1]})\n",
    "    \n",
    "    pie_data = filtered_data[\"Plant_Health_Status\"].value_counts().reset_index()\n",
    "    pie_data.columns = [\"Plant_Health_Status\", \"Count\"]\n",
    "    return pie_data\n",
    "\n",
    "# Function to get environmental factors data\n",
    "def get_env_factors_data(week, plant):\n",
    "    filtered_data = data[(data[\"Week\"] == week) & (data[\"Plant_ID\"] == plant)]\n",
    "    \n",
    "    if filtered_data.empty:\n",
    "        return pd.DataFrame({\"Factor\": [\"No Data\"], \"Value\": [0]})\n",
    "    \n",
    "    # List of environmental factors\n",
    "    env_factors = [\n",
    "        'Soil_Moisture', 'Ambient_Temperature', 'Soil_Temperature', 'Humidity', \n",
    "        'Soil_pH', 'Nitrogen_Level', 'Phosphorus_Level', 'Potassium_Level', \n",
    "        'Chlorophyll_Content', 'Electrochemical_Signal'\n",
    "    ]\n",
    "    \n",
    "    # Calculate mean values for each factor\n",
    "    env_data = pd.DataFrame({\n",
    "        'Factor': env_factors,\n",
    "        'Value': [filtered_data[factor].mean() for factor in env_factors]\n",
    "    })\n",
    "    \n",
    "    return env_data\n",
    "\n",
    "# Function to create and update both charts\n",
    "def update_charts(week, plant):\n",
    "    # Create figure with 1 row and 2 columns for the two tiles\n",
    "    fig = make_subplots(\n",
    "        rows=1, cols=2,\n",
    "        subplot_titles=(f\"Plant Health Status \", f\"Environmental Factors \"),\n",
    "        specs=[[{\"type\": \"pie\"}, {\"type\": \"bar\"}]]\n",
    "    )\n",
    "    \n",
    "    # Tile 1: Pie Chart\n",
    "    pie_data = get_pie_data(week, plant)\n",
    "    fig.add_trace(\n",
    "        go.Pie(\n",
    "            labels=pie_data[\"Plant_Health_Status\"],\n",
    "            values=pie_data[\"Count\"],\n",
    "            hole=.3,\n",
    "            domain=dict(x=[0, 0.45]),\n",
    "            textinfo='percent',\n",
    "            showlegend=True,  # Enable legend for pie chart\n",
    "            name=\"Health Status\"  # Name the legend for clarity\n",
    "        ),\n",
    "        row=1, col=1\n",
    "    )\n",
    "    \n",
    "    # Tile 2: Bar Chart\n",
    "    env_data = get_env_factors_data(week, plant)\n",
    "    fig.add_trace(\n",
    "        go.Bar(\n",
    "            x=env_data[\"Factor\"],\n",
    "            y=env_data[\"Value\"],\n",
    "            text=env_data[\"Value\"].round(2),\n",
    "            textposition='auto'\n",
    "        ),\n",
    "        row=1, col=2\n",
    "    )\n",
    "    \n",
    "    # Update layout\n",
    "    fig.update_layout(\n",
    "        title_text=f\"Plant Analysis Dashboard - Week {week}, Plant {plant}\",\n",
    "        height=600,\n",
    "        width=1200,\n",
    "        showlegend=True,  # Show the legend overall\n",
    "        legend=dict(\n",
    "            x=1.05,  # Position the legend outside the plot\n",
    "            y=0.5,  # Center the legend vertically\n",
    "            traceorder='normal',\n",
    "            orientation='v',\n",
    "            title=\"Health Status\"  # Title for the legend\n",
    "        )\n",
    "    )\n",
    "    \n",
    "    # Update y-axis label for the bar chart\n",
    "    fig.update_yaxes(title_text=\"Value\", row=1, col=2)\n",
    "    \n",
    "    # Update x-axis of bar chart to show labels at an angle\n",
    "    fig.update_xaxes(\n",
    "        tickangle=45,\n",
    "        tickmode='array',\n",
    "        tickvals=env_data[\"Factor\"],\n",
    "        row=1, col=2\n",
    "    )\n",
    "    \n",
    "    fig.show()\n",
    "\n",
    "# Create interactive widgets (only once)\n",
    "week_dropdown = widgets.Dropdown(\n",
    "    options=[(f'Week {week}', week) for week in unique_weeks],\n",
    "    value=unique_weeks[0],\n",
    "    description='Week:',\n",
    "    layout=Layout(width='200px')\n",
    ")\n",
    "\n",
    "plant_dropdown = widgets.Dropdown(\n",
    "    options=[(f'Plant {plant}', plant) for plant in unique_plants],\n",
    "    value=unique_plants[0],\n",
    "    description='Plant:',\n",
    "    layout=Layout(width='200px')\n",
    ")\n",
    "\n",
    "# Create the widget UI\n",
    "ui = HBox([week_dropdown, plant_dropdown])\n",
    "\n",
    "# Create the interactive output\n",
    "out = interactive_output(\n",
    "    update_charts,\n",
    "    {'week': week_dropdown, 'plant': plant_dropdown}\n",
    ")\n",
    "\n",
    "# Display UI and output\n",
    "display(VBox([ui, out]))\n"
   ]
  }
 ],
 "metadata": {
  "kernelspec": {
   "display_name": "Python de-project (venv)",
   "language": "python",
   "name": "venv"
  },
  "language_info": {
   "codemirror_mode": {
    "name": "ipython",
    "version": 3
   },
   "file_extension": ".py",
   "mimetype": "text/x-python",
   "name": "python",
   "nbconvert_exporter": "python",
   "pygments_lexer": "ipython3",
   "version": "3.10.0"
  }
 },
 "nbformat": 4,
 "nbformat_minor": 2
}
